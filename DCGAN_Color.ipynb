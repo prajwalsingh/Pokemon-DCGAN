{
 "cells": [
  {
   "cell_type": "markdown",
   "metadata": {},
   "source": [
    "## <center>POKEMON DCGAN</center>"
   ]
  },
  {
   "cell_type": "markdown",
   "metadata": {
    "colab_type": "text",
    "id": "vYr8rrv91H5d"
   },
   "source": [
    "#### Importing all the required libraries"
   ]
  },
  {
   "cell_type": "code",
   "execution_count": null,
   "metadata": {
    "colab": {},
    "colab_type": "code",
    "executionInfo": {
     "elapsed": 2704,
     "status": "ok",
     "timestamp": 1597250804176,
     "user": {
      "displayName": "Prajwal Singh",
      "photoUrl": "https://lh3.googleusercontent.com/a-/AOh14Ghm3TeZA0JzMyP-HDTT4zkQjIq8W7fS8fhyNej4=s64",
      "userId": "11012002805205450803"
     },
     "user_tz": -330
    },
    "id": "5mvhAM87B_W_"
   },
   "outputs": [],
   "source": [
    "import numpy as np\n",
    "import matplotlib.pyplot as plt\n",
    "import tensorflow as tf\n",
    "from tensorflow.keras import layers, models, metrics, losses, optimizers, Model\n",
    "import cv2\n",
    "import os\n",
    "tf.random.set_seed(45)"
   ]
  },
  {
   "cell_type": "markdown",
   "metadata": {
    "colab_type": "text",
    "id": "xms7gLR91dK1"
   },
   "source": [
    "#### Model"
   ]
  },
  {
   "cell_type": "code",
   "execution_count": null,
   "metadata": {
    "colab": {},
    "colab_type": "code",
    "executionInfo": {
     "elapsed": 2697,
     "status": "ok",
     "timestamp": 1597250804178,
     "user": {
      "displayName": "Prajwal Singh",
      "photoUrl": "https://lh3.googleusercontent.com/a-/AOh14Ghm3TeZA0JzMyP-HDTT4zkQjIq8W7fS8fhyNej4=s64",
      "userId": "11012002805205450803"
     },
     "user_tz": -330
    },
    "id": "KBbzDX9j1b_w"
   },
   "outputs": [],
   "source": [
    "class DCGANGenerator(Model):\n",
    "    def __init__(self, latent_dim):\n",
    "        super(DCGANGenerator, self).__init__()\n",
    "        \n",
    "        self.dense_1 = layers.Dense(units=latent_dim*2*2, input_dim=latent_dim)\n",
    "        self.activation_1 = layers.Activation('relu')\n",
    "        self.reshape_1 = layers.Reshape(target_shape=(2, 2, latent_dim))\n",
    "\n",
    "        self.upsampling_2 = layers.UpSampling2D()\n",
    "        self.conv_2 = layers.Conv2D(filters=512, kernel_size=(3, 3), strides=1, padding='same')\n",
    "        self.norm_2 = layers.BatchNormalization(momentum=0.7)\n",
    "        self.activation_2 = layers.Activation('relu')\n",
    "\n",
    "        self.upsampling_3 = layers.UpSampling2D()\n",
    "        self.conv_3 = layers.Conv2D(filters=512, kernel_size=(3, 3), strides=1, padding='same')\n",
    "        self.norm_3 = layers.BatchNormalization(momentum=0.7)\n",
    "        self.activation_3 = layers.Activation('relu')\n",
    "\n",
    "        self.upsampling_4 = layers.UpSampling2D()\n",
    "        self.conv_4 = layers.Conv2D(filters=256, kernel_size=(3, 3), strides=1, padding='same')\n",
    "        self.norm_4 = layers.BatchNormalization(momentum=0.7)\n",
    "        self.activation_4 = layers.Activation('relu')\n",
    "\n",
    "        self.upsampling_5 = layers.UpSampling2D()\n",
    "        self.conv_5 = layers.Conv2D(filters=256, kernel_size=(3, 3), strides=1, padding='same')\n",
    "        self.norm_5 = layers.BatchNormalization(momentum=0.7)\n",
    "        self.activation_5 = layers.Activation('relu')\n",
    "\n",
    "        self.upsampling_6 = layers.UpSampling2D()\n",
    "        self.conv_6 = layers.Conv2D(filters=128, kernel_size=(3, 3), strides=1, padding='same')\n",
    "        self.norm_6 = layers.BatchNormalization(momentum=0.8)\n",
    "        self.activation_6 = layers.Activation('relu')\n",
    "\n",
    "        self.upsampling_7 = layers.UpSampling2D()\n",
    "        self.conv_7 = layers.Conv2D(filters=64, kernel_size=(3, 3), strides=1, padding='same')\n",
    "        self.norm_7 = layers.BatchNormalization(momentum=0.7)\n",
    "        self.activation_7 = layers.Activation('relu')\n",
    "\n",
    "        self.conv_8 = layers.Conv2D(filters=64, kernel_size=(3, 3), strides=1, padding='same')\n",
    "        self.norm_8 = layers.BatchNormalization(momentum=0.7)\n",
    "        self.activation_8 = layers.Activation('relu')\n",
    "\n",
    "        self.conv_9 = layers.Conv2D(filters=3, kernel_size=(3, 3), strides=1, padding='same')\n",
    "        self.activation_9 = layers.Activation('tanh')\n",
    "    \n",
    "    def call(self, x):\n",
    "\n",
    "        x = self.dense_1(x)\n",
    "        x = self.activation_1(x)\n",
    "        x = self.reshape_1(x)\n",
    "\n",
    "        x = self.upsampling_2(x)\n",
    "        x = self.conv_2(x)\n",
    "        x = self.norm_2(x)\n",
    "        x = self.activation_2(x)\n",
    "\n",
    "        x = self.upsampling_3(x)\n",
    "        x = self.conv_3(x)\n",
    "        x = self.norm_3(x)\n",
    "        x = self.activation_3(x)\n",
    "\n",
    "        x = self.upsampling_4(x)\n",
    "        x = self.conv_4(x)\n",
    "        x = self.norm_4(x)\n",
    "        x = self.activation_4(x)\n",
    "\n",
    "        x = self.upsampling_5(x)\n",
    "        x = self.conv_5(x)\n",
    "        x = self.norm_5(x)\n",
    "        x = self.activation_5(x)\n",
    "\n",
    "        x = self.upsampling_6(x)\n",
    "        x = self.conv_6(x)\n",
    "        x = self.norm_6(x)\n",
    "        x = self.activation_6(x)\n",
    "\n",
    "        x = self.upsampling_7(x)\n",
    "        x = self.conv_7(x)\n",
    "        x = self.norm_7(x)\n",
    "        x = self.activation_7(x)\n",
    "\n",
    "#         x = self.upsampling_8(x)\n",
    "        x = self.conv_8(x)\n",
    "        x = self.norm_8(x)\n",
    "        x = self.activation_8(x)\n",
    "\n",
    "        x = self.conv_9(x)\n",
    "        out = self.activation_9(x)\n",
    "\n",
    "        return out"
   ]
  },
  {
   "cell_type": "code",
   "execution_count": null,
   "metadata": {
    "colab": {},
    "colab_type": "code",
    "executionInfo": {
     "elapsed": 2692,
     "status": "ok",
     "timestamp": 1597250804179,
     "user": {
      "displayName": "Prajwal Singh",
      "photoUrl": "https://lh3.googleusercontent.com/a-/AOh14Ghm3TeZA0JzMyP-HDTT4zkQjIq8W7fS8fhyNej4=s64",
      "userId": "11012002805205450803"
     },
     "user_tz": -330
    },
    "id": "cmipo9ym77Sb"
   },
   "outputs": [],
   "source": [
    "class DCGANDiscriminator(Model):\n",
    "    def __init__(self, image_shape):\n",
    "        super(DCGANDiscriminator, self).__init__()\n",
    "\n",
    "        self.conv_1 = layers.Conv2D(filters=32, kernel_size=(3, 3), strides=2, padding='same')\n",
    "        self.activation_1 = layers.LeakyReLU(alpha=0.2)\n",
    "        self.dropout_1 = layers.Dropout(rate=0.25)\n",
    "\n",
    "        self.conv_2 = layers.Conv2D(filters=64, kernel_size=(3, 3), strides=2, padding='same')\n",
    "        self.zeropad_2 = layers.ZeroPadding2D(padding=((0, 1), (0, 1)))\n",
    "        self.norm_2 = layers.BatchNormalization(momentum=0.8)\n",
    "        self.activation_2 = layers.LeakyReLU(alpha=0.2)\n",
    "        self.dropout_2 = layers.Dropout(rate=0.25)\n",
    "\n",
    "        self.conv_3 = layers.Conv2D(filters=128, kernel_size=(3, 3), strides=2, padding='same')\n",
    "        self.norm_3 = layers.BatchNormalization(momentum=0.8)\n",
    "        self.activation_3 = layers.LeakyReLU(alpha=0.1)\n",
    "        self.dropout_3 = layers.Dropout(rate=0.25)\n",
    "\n",
    "        self.conv_4 = layers.Conv2D(filters=128, kernel_size=(3, 3), strides=1, padding='same')\n",
    "        self.norm_4 = layers.BatchNormalization(momentum=0.8)\n",
    "        self.activation_4 = layers.LeakyReLU(alpha=0.1)\n",
    "        self.dropout_4 = layers.Dropout(rate=0.25)\n",
    "\n",
    "        self.flatten = layers.Flatten()\n",
    "        self.dense_5 = layers.Dense(units=1)\n",
    "        self.activation_5 = layers.Activation('sigmoid')\n",
    "    \n",
    "    def call(self, x):\n",
    "        # print(X.shape)\n",
    "        x = self.conv_1(x)\n",
    "        x = self.activation_1(x)\n",
    "        x = self.dropout_1(x)\n",
    "        # print(x.shape)\n",
    "\n",
    "        x = self.conv_2(x)\n",
    "        x = self.zeropad_2(x)\n",
    "        x = self.norm_2(x)\n",
    "        x = self.activation_2(x)\n",
    "        x = self.dropout_2(x)\n",
    "        # print(x.shape)\n",
    "\n",
    "        x = self.conv_3(x)\n",
    "        x = self.norm_3(x)\n",
    "        x = self.activation_3(x)\n",
    "        x = self.dropout_3(x)\n",
    "        # print(x.shape)\n",
    "\n",
    "        x = self.conv_4(x)\n",
    "        x = self.norm_4(x)\n",
    "        x = self.activation_4(x)\n",
    "        x = self.dropout_4(x)\n",
    "        # print(x.shape)\n",
    "\n",
    "        x = self.flatten(x)\n",
    "        # print(x.shape)\n",
    "\n",
    "        x = self.dense_5(x)\n",
    "        # print(x.shape)\n",
    "        out = self.activation_5(x)\n",
    "\n",
    "        return out"
   ]
  },
  {
   "cell_type": "code",
   "execution_count": null,
   "metadata": {
    "colab": {},
    "colab_type": "code",
    "executionInfo": {
     "elapsed": 2689,
     "status": "ok",
     "timestamp": 1597250804181,
     "user": {
      "displayName": "Prajwal Singh",
      "photoUrl": "https://lh3.googleusercontent.com/a-/AOh14Ghm3TeZA0JzMyP-HDTT4zkQjIq8W7fS8fhyNej4=s64",
      "userId": "11012002805205450803"
     },
     "user_tz": -330
    },
    "id": "JOgqxlAAAxCE"
   },
   "outputs": [],
   "source": [
    "def train_step(gen_model, dis_model, loss_method, optimizer_method_gen, optimizer_method_dis, batch_size, latent_dim, X):\n",
    "    latent_vector = tf.random.normal(shape=(batch_size, latent_dim))\n",
    "    valid_labels = tf.ones(shape=(batch_size, 1))\n",
    "    fake_labels = tf.zeros(shape=(batch_size, 1))\n",
    "    \n",
    "    with tf.GradientTape() as tape:\n",
    "        gen_out = gen_model(latent_vector, training=True)\n",
    "        real_out = dis_model(X, training=True)\n",
    "        fake_out = dis_model(gen_out, training=True)\n",
    "        real_loss = loss_method(valid_labels, real_out)\n",
    "        fake_loss = loss_method(fake_labels, fake_out)\n",
    "        dis_loss = tf.multiply(tf.add(real_loss, fake_loss), 1.0)\n",
    "    variables = gen_model.trainable_variables + dis_model.trainable_variables\n",
    "    gradients = tape.gradient(dis_loss, variables)\n",
    "    optimizer_method_dis.apply_gradients(zip(gradients, variables))\n",
    "\n",
    "    with tf.GradientTape() as tape:\n",
    "        gen_out = gen_model(latent_vector, training=True)\n",
    "        fake_out = dis_model(gen_out, training=True)\n",
    "        gen_loss = loss_method(valid_labels, fake_out)\n",
    "    variables = gen_model.trainable_variables\n",
    "    gradients = tape.gradient(gen_loss, variables)\n",
    "    optimizer_method_gen.apply_gradients(zip(gradients, variables))\n",
    "\n",
    "    return gen_loss, dis_loss"
   ]
  },
  {
   "cell_type": "code",
   "execution_count": null,
   "metadata": {
    "colab": {},
    "colab_type": "code",
    "executionInfo": {
     "elapsed": 2685,
     "status": "ok",
     "timestamp": 1597250804181,
     "user": {
      "displayName": "Prajwal Singh",
      "photoUrl": "https://lh3.googleusercontent.com/a-/AOh14Ghm3TeZA0JzMyP-HDTT4zkQjIq8W7fS8fhyNej4=s64",
      "userId": "11012002805205450803"
     },
     "user_tz": -330
    },
    "id": "xVlr7gebCtox"
   },
   "outputs": [],
   "source": [
    "def generate_images(epoch, latent_dim, gen_model):\n",
    "    r, c = 5, 5\n",
    "    latent_vector = tf.random.normal(shape=(r*c, latent_dim))\n",
    "    gen_imgs = gen_model(latent_vector, training=True)\n",
    "    gen_imgs = gen_imgs * 0.5 + 0.5\n",
    "    fig, axis = plt.subplots(r, c, figsize=(15, 15))\n",
    "    idx = 0\n",
    "    for i in range(r):\n",
    "        for j in range(c):\n",
    "            axis[i, j].imshow(gen_imgs[idx])\n",
    "            # axis[i, j].imshow(gen_imgs[idx, :, :, 0], cmap='gray')\n",
    "            axis[i, j].axis('off')\n",
    "            idx+=1\n",
    "    fig.savefig('data/dcgan_color/output/{0}.png'.format(epoch))\n",
    "    plt.close()\n",
    "# generate_images(epoch, latent_dim, gen_model)"
   ]
  },
  {
   "cell_type": "markdown",
   "metadata": {
    "colab_type": "text",
    "id": "ey-b1LCtEEZO"
   },
   "source": [
    "#### Dataset Prepration"
   ]
  },
  {
   "cell_type": "code",
   "execution_count": null,
   "metadata": {
    "colab": {
     "base_uri": "https://localhost:8080/",
     "height": 34
    },
    "colab_type": "code",
    "executionInfo": {
     "elapsed": 6957,
     "status": "ok",
     "timestamp": 1597250808460,
     "user": {
      "displayName": "Prajwal Singh",
      "photoUrl": "https://lh3.googleusercontent.com/a-/AOh14Ghm3TeZA0JzMyP-HDTT4zkQjIq8W7fS8fhyNej4=s64",
      "userId": "11012002805205450803"
     },
     "user_tz": -330
    },
    "id": "kQvMV2VQEAQZ",
    "outputId": "e200cc3a-20aa-4ea3-baa8-48579875a35c"
   },
   "outputs": [],
   "source": [
    "# This list contains all the image data\n",
    "data = []\n",
    "image_shape = (128, 128, 3)\n",
    "# image_shape = (128, 128)\n",
    "latent_dim = 128\n",
    "batch_size = 16\n",
    "data_dir = 'data/dcgan_color/pokemon/'\n",
    "ckpt_dir = 'data/dcgan_color/checkpoint/'\n",
    "\n",
    "for file_name in os.listdir(path=data_dir):\n",
    "    img_path = os.path.join(data_dir, file_name)\n",
    "    img = cv2.imread(img_path, 1)\n",
    "    img = cv2.cvtColor(img, cv2.COLOR_BGR2RGB)\n",
    "    if img.shape[0]<=120 or img.shape[1]<=120:\n",
    "        img = np.pad(img, pad_width=((4, 4), (4, 4), (0, 0)), mode='constant')\n",
    "    else:\n",
    "        img = cv2.resize(img, (128, 128))\n",
    "#     cv2.imshow('Image', img)\n",
    "#     cv2.waitKey(0)\n",
    "#     cv2.destroyAllWindows()\n",
    "    data.append(img)\n",
    "data = np.array(data)\n",
    "print(data.shape)"
   ]
  },
  {
   "cell_type": "code",
   "execution_count": null,
   "metadata": {
    "colab": {},
    "colab_type": "code",
    "executionInfo": {
     "elapsed": 7752,
     "status": "ok",
     "timestamp": 1597250809260,
     "user": {
      "displayName": "Prajwal Singh",
      "photoUrl": "https://lh3.googleusercontent.com/a-/AOh14Ghm3TeZA0JzMyP-HDTT4zkQjIq8W7fS8fhyNej4=s64",
      "userId": "11012002805205450803"
     },
     "user_tz": -330
    },
    "id": "o30wi4Z50aau"
   },
   "outputs": [],
   "source": [
    "# Here we are creating training batch\n",
    "train_batch = tf.data.Dataset.from_tensor_slices(data).shuffle(1000).batch(batch_size, drop_remainder=True)"
   ]
  },
  {
   "cell_type": "code",
   "execution_count": null,
   "metadata": {
    "colab": {},
    "colab_type": "code",
    "executionInfo": {
     "elapsed": 7750,
     "status": "ok",
     "timestamp": 1597250809262,
     "user": {
      "displayName": "Prajwal Singh",
      "photoUrl": "https://lh3.googleusercontent.com/a-/AOh14Ghm3TeZA0JzMyP-HDTT4zkQjIq8W7fS8fhyNej4=s64",
      "userId": "11012002805205450803"
     },
     "user_tz": -330
    },
    "id": "zmw1Gzvk49M5"
   },
   "outputs": [],
   "source": [
    "gen_model = DCGANGenerator(latent_dim=latent_dim)\n",
    "dis_model = DCGANDiscriminator(image_shape=image_shape)"
   ]
  },
  {
   "cell_type": "code",
   "execution_count": null,
   "metadata": {
    "colab": {},
    "colab_type": "code",
    "executionInfo": {
     "elapsed": 7750,
     "status": "ok",
     "timestamp": 1597250809266,
     "user": {
      "displayName": "Prajwal Singh",
      "photoUrl": "https://lh3.googleusercontent.com/a-/AOh14Ghm3TeZA0JzMyP-HDTT4zkQjIq8W7fS8fhyNej4=s64",
      "userId": "11012002805205450803"
     },
     "user_tz": -330
    },
    "id": "22DRwaxx4P0W"
   },
   "outputs": [],
   "source": [
    "loss_method = losses.BinaryCrossentropy()\n",
    "optimizer_method_gen = optimizers.Adam(learning_rate=0.001)\n",
    "optimizer_method_dis = optimizers.Adam(learning_rate=0.0001)\n",
    "ckpt = tf.train.Checkpoint(step=tf.Variable(0), optimizer_g=optimizer_method_gen, optimizer_d=optimizer_method_dis, g_model=gen_model, d_model=dis_model)\n",
    "manager = tf.train.CheckpointManager(checkpoint=ckpt, directory=ckpt_dir, max_to_keep=1)\n",
    "ckpt.restore(manager.latest_checkpoint)\n",
    "if manager.latest_checkpoint:\n",
    "    print('Restored from last checkpoint : {0}'.format(int(ckpt.step)))\n",
    "START_EPOCH = int(ckpt.step)\n",
    "EPOCHS = 10000"
   ]
  },
  {
   "cell_type": "code",
   "execution_count": null,
   "metadata": {
    "colab": {
     "base_uri": "https://localhost:8080/",
     "height": 330
    },
    "colab_type": "code",
    "executionInfo": {
     "elapsed": 23544,
     "status": "error",
     "timestamp": 1597250825064,
     "user": {
      "displayName": "Prajwal Singh",
      "photoUrl": "https://lh3.googleusercontent.com/a-/AOh14Ghm3TeZA0JzMyP-HDTT4zkQjIq8W7fS8fhyNej4=s64",
      "userId": "11012002805205450803"
     },
     "user_tz": -330
    },
    "id": "HPzetI7T5zEr",
    "outputId": "688b33c0-900c-4884-c8c0-92940480acd6"
   },
   "outputs": [],
   "source": [
    "for epoch in range(START_EPOCH, EPOCHS):\n",
    "    gen_loss = metrics.Mean()\n",
    "    dis_loss = metrics.Mean()\n",
    "    for X in train_batch:\n",
    "        X = (tf.cast(X, dtype='float32')-127.5)/127.5\n",
    "        g_loss, d_loss = train_step(gen_model, dis_model, loss_method, optimizer_method_gen, optimizer_method_dis, batch_size, latent_dim, X)\n",
    "        gen_loss.update_state(g_loss)\n",
    "        dis_loss.update_state(d_loss)\n",
    "    ckpt.step.assign_add(1)\n",
    "    manager.save()\n",
    "    print('Epoch : {0}\\tGen Loss : {1}\\tDis Loss : {2}'.format(epoch, gen_loss.result(), dis_loss.result()))\n",
    "    if epoch%2 == 0:\n",
    "        generate_images(epoch, latent_dim, gen_model)"
   ]
  }
 ],
 "metadata": {
  "accelerator": "GPU",
  "colab": {
   "authorship_tag": "ABX9TyNX6tlbBkUDk/siwh/VbQzQ",
   "collapsed_sections": [],
   "mount_file_id": "1fTpZbQv5QsYKexj-36V5JwHLTdyr94vs",
   "name": "DCGAN_Color.ipynb",
   "provenance": []
  },
  "kernelspec": {
   "display_name": "Python 3",
   "language": "python",
   "name": "python3"
  },
  "language_info": {
   "codemirror_mode": {
    "name": "ipython",
    "version": 3
   },
   "file_extension": ".py",
   "mimetype": "text/x-python",
   "name": "python",
   "nbconvert_exporter": "python",
   "pygments_lexer": "ipython3",
   "version": "3.7.6"
  }
 },
 "nbformat": 4,
 "nbformat_minor": 1
}
